{
 "cells": [
  {
   "cell_type": "code",
   "execution_count": 17,
   "metadata": {},
   "outputs": [],
   "source": [
    "import numpy as np\n",
    "import pandas as pd\n",
    "from scipy.stats import norm\n",
    "from scipy.integrate import quad\n",
    "import matplotlib.pyplot as plt\n",
    "from pandas_datareader import data"
   ]
  },
  {
   "cell_type": "markdown",
   "metadata": {},
   "source": [
    "## 1. Double Barrier Option Price By Analytical Method\n",
    "* The formula is shown in Philip Barker's book \"Java Methods for Financial Engineering\" pp 407-420\n",
    "* Details in https://link-springer-com.proxy.library.nyu.edu/content/pdf/10.1007%2F978-1-84628-741-1_15.pdf\n",
    "* Notation:  \n",
    "$S$: Stock Price;  \n",
    "$K$: Strike Price;  \n",
    "$L$: Lower Barrier;  \n",
    "$U$: Upper Barrier;  \n",
    "$t$: Time to expiry;  \n",
    "$\\sigma (sigma)$: Volatility;  \n",
    "$r$: Risk Free Rate."
   ]
  },
  {
   "cell_type": "code",
   "execution_count": 3,
   "metadata": {},
   "outputs": [],
   "source": [
    "class DoubleBarrierC:\n",
    "    def __init__(self,S,K,L,U,t,sigma,r):\n",
    "        self.S = S\n",
    "        self.K = K\n",
    "        self.L = L\n",
    "        self.U = U\n",
    "        self.sigma = sigma\n",
    "        self.t = t\n",
    "        self.r = r\n",
    "    \n",
    "    def update_params(self, S, t):\n",
    "        self.S = S\n",
    "        self.t = t\n",
    "    \n",
    "    def X(self,n,d1,d2,d3,d4,mu):\n",
    "        X  = (self.U/self.L)**(n*mu)*(norm.cdf(d1)-norm.cdf(d2))-(self.L**(n+1)/(self.U**n*self.S))**(mu)*(norm.cdf(d3)-norm.cdf(d4))\n",
    "        return X\n",
    "    \n",
    "    def Y(self,n,d1,d2,d3,d4,mu):\n",
    "        Y = (self.U/self.L)**(n*mu-2*n)*(norm.cdf(d1-self.sigma*np.sqrt(self.t))-norm.cdf(d2-self.sigma*np.sqrt(self.t)))-(self.L**(n+1)/(self.U**n*self.S))**(mu-2)*(norm.cdf(d3-self.sigma*np.sqrt(self.t))-norm.cdf(d4-self.sigma*np.sqrt(self.t)))\n",
    "        return Y\n",
    "    \n",
    "    def Price(self):\n",
    "        mu = (2*self.r)/self.sigma**2 + 1\n",
    "        Price = 0\n",
    "        n=-10\n",
    "        add = 0\n",
    "        \n",
    "        while(n<=10):\n",
    "            d1 = (np.log(self.S*self.U**(2*n)/(self.K*self.L**(2*n)))+(self.r+0.5*self.sigma**2)*self.t)/(self.sigma*np.sqrt(self.t))\n",
    "            d2 = (np.log(self.S*self.U**(2*n)/(self.U*self.L**(2*n)))+(self.r+0.5*self.sigma**2)*self.t)/(self.sigma*np.sqrt(self.t))\n",
    "            d3 = (np.log(self.L**(2*n+2)/(self.K*self.S*self.U**(2*n)))+(self.r+0.5*self.sigma**2)*self.t)/(self.sigma*np.sqrt(self.t))\n",
    "            d4 = (np.log(self.L**(2*n+2)/(self.S*self.U**(2*n+1)))+(self.r+0.5*self.sigma**2)*self.t)/(self.sigma*np.sqrt(self.t))\n",
    "        \n",
    "            add = self.S*self.X(n,d1,d2,d3,d4,mu)-self.K*np.exp(-self.r*self.t)*self.Y(n,d1,d2,d3,d4,mu)\n",
    "            Price += add\n",
    "            n += 1\n",
    "       \n",
    "        return Price\n",
    "    \n",
    "    def Delta(self):\n",
    "        mu = (2*self.r)/self.sigma**2 + 1\n",
    "        Delta = 0\n",
    "        n=-5\n",
    "        add = 0\n",
    "       \n",
    "        while(n<=5):\n",
    "            d1 = (np.log(self.S*self.U**(2*n)/(self.K*self.L**(2*n)))+(self.r+0.5*self.sigma**2)*self.t)/(self.sigma*np.sqrt(self.t))\n",
    "            d2 = (np.log(self.S*self.U**(2*n)/(self.U*self.L**(2*n)))+(self.r+0.5*self.sigma**2)*self.t)/(self.sigma*np.sqrt(self.t))\n",
    "            d3 = (np.log(self.L**(2*n+2)/(self.K*self.S*self.U**(2*n)))+(self.r+0.5*self.sigma**2)*self.t)/(self.sigma*np.sqrt(self.t))\n",
    "            d4 = (np.log(self.L**(2*n+2)/(self.S*self.U**(2*n+1)))+(self.r+0.5*self.sigma**2)*self.t)/(self.sigma*np.sqrt(self.t))\n",
    "            d1_= d1-self.sigma*np.sqrt(self.t) \n",
    "            d2_= d2-self.sigma*np.sqrt(self.t) \n",
    "            d3_= d3-self.sigma*np.sqrt(self.t) \n",
    "            d4_= d4-self.sigma*np.sqrt(self.t) \n",
    "            \n",
    "            S_ = 1/(self.S*self.sigma*np.sqrt(self.t))\n",
    "            X_ = (self.U/self.L)**(n*mu)*(norm.pdf(d1)*S_-norm.pdf(d2)*S_) - ((self.L**(n+1)/self.U**n)**mu*(-mu)/self.S**(mu+1)*(norm.cdf(d3)-norm.cdf(d4)))-(self.L**(n+1)/(self.U**n*self.S))**mu*(norm.pdf(d4)*S_-norm.pdf(d3)*S_)\n",
    "            Y_ = (self.U/self.L)**(n*mu-2*n)*(norm.pdf(d1_)*S_-norm.pdf(d2_)*S_) - (self.L**(n+1)/self.U**n)**(mu-2)*(2-mu)*self.S**(1-mu)*(norm.cdf(d3_)-norm.cdf(d4_)) - (self.L**(n+1)/(self.U**(n)*self.S))**(mu-2)*(norm.pdf(d4_)*S_-norm.pdf(d3_)*S_)\n",
    "            \n",
    "            add = self.X(n,d1,d2,d3,d4,mu)+self.S*X_-self.K*np.exp(-self.r*self.t)*Y_\n",
    "            Delta += add\n",
    "            n += 1\n",
    "        return Delta\n",
    "    \n"
   ]
  },
  {
   "cell_type": "code",
   "execution_count": 4,
   "metadata": {},
   "outputs": [],
   "source": [
    "def vanilla_call(S, K, t, T, sigma, r):\n",
    "    tau = T-t\n",
    "    d1 = (np.log(S/K) + (r+ sigma**2/2)*tau)/(sigma*np.sqrt(tau))\n",
    "    d2 = d1 - sigma*np.sqrt(tau)\n",
    "    if tau != 0:\n",
    "        return S*norm.cdf(d1) - K*norm.cdf(d2)*np.exp(-r*tau)\n",
    "    else:\n",
    "        return max(S-K,0)\n",
    "\n",
    "class DoubleBarrierFourier:\n",
    "    \"\"\"\n",
    "    Purely for demonstration.\n",
    "    Converges extremely poorly.\n",
    "    \"\"\"\n",
    "    def __init__(self,K,L,U,T,sigma,r):\n",
    "        self.K = K\n",
    "        self.L = L\n",
    "        self.U = U\n",
    "        self.sigma = sigma\n",
    "        self.T = T\n",
    "        self.r = r\n",
    "         \n",
    "    def to_integrate(self,S,n):\n",
    "        k = 2*self.r/self.sigma**2\n",
    "        alpha = -(k-1)/2\n",
    "        return S**(-alpha-1) * np.sin(n*np.pi*np.log(S/ self.L) /np.log(self.U/self.L)) *  max(S-self.K, 0)\n",
    "    \n",
    "    def A(self, n):\n",
    "        ans = quad(self.to_integrate, self.L, self.U, args = (n))\n",
    "#         print(ans[1])\n",
    "        return 2/np.log(self.U/self.L)*ans[0]\n",
    "    \n",
    "    def Price(self, S, t):\n",
    "        self.S = S\n",
    "        self.t = t\n",
    "        tau = self.sigma**2/2* (self.T-self.t)\n",
    "        Price = 0\n",
    "        k = 2*self.r/self.sigma**2\n",
    "        alpha = -(k-1)/2\n",
    "        beta = -(k+1)**2/4\n",
    "        price_old = 1\n",
    "        n = 1\n",
    "        while abs((price_old - Price)/price_old) > 0.01:\n",
    "        #while n < 20:\n",
    "            if n > 1:\n",
    "                price_old = Price\n",
    "            Price += self.A(n)*np.sin(n*np.pi*np.log(S/self.L)/np.log(self.U/self.L))*np.exp(-(n*np.pi/np.log(self.U/self.L))**2*tau)\n",
    "            #print(Price)\n",
    "            n +=1\n",
    "        Price *= ((S**alpha)*np.exp(beta*tau))\n",
    "        print(\"iterations for convergence:\", n)\n",
    "        return Price\n",
    "    \n",
    "    def Delta(self, S, t):\n",
    "        self.S = S\n",
    "        self.t = t\n",
    "        tau = self.sigma**2/2* (self.T-self.t)\n",
    "        k = 2*self.r/self.sigma**2\n",
    "        alpha = -(k-1)/2\n",
    "        beta = -(k+1)**2/4\n",
    "        \n",
    "        dold = 1    \n",
    "        Delta = 0\n",
    "        n = 0\n",
    "        while abs((dold - Delta)/dold) > 0.05:\n",
    "        #while n < 20:\n",
    "            if n > 1:\n",
    "                dold = Delta\n",
    "            kb = n*np.pi/np.log(self.U/self.L)\n",
    "            Delta += self.A(n)* kb* np.cos(kb*np.log(S/self.L)) + alpha*np.sin(kb*np.log(S/self.L))*np.exp(-kb**2*tau)\n",
    "            \n",
    "            n += 1\n",
    "        Delta *= (S**(alpha - 1)*np.exp(beta*tau))\n",
    "        print(\"iterations:\", n)\n",
    "        return Delta"
   ]
  },
  {
   "cell_type": "markdown",
   "metadata": {},
   "source": [
    "## 2. Double Barrier Option Price By Monte Carlo Method"
   ]
  },
  {
   "cell_type": "code",
   "execution_count": 5,
   "metadata": {},
   "outputs": [],
   "source": [
    "def DoubleBarrierMC(S,K,L,U,t,sigma,r,n):\n",
    "    \n",
    "    T=1/7000\n",
    "    St=np.zeros(int(t*7000))\n",
    "    St[0]=S\n",
    "    V=np.zeros(n)\n",
    "    np.random.seed(10000000)\n",
    "    for i in range(n):\n",
    "        flag=0\n",
    "        for j in range(int(t*7000-1)):\n",
    "            St[j+1]=St[j]*np.exp((r-sigma*sigma/2)*T-sigma*np.sqrt(T)*np.random.normal(0,1))\n",
    "            if (St[j+1]>=U or St[j+1]<=L):\n",
    "                flag=1\n",
    "                break\n",
    "        if flag:\n",
    "            V[i]=0\n",
    "        else:\n",
    "            V[i]=max(St[int(t*7000-1)]-K,0)*np.exp(-r*t)\n",
    "    return V.mean()-norm.ppf(0.99)*V.std()/np.sqrt(n),V.mean()+norm.ppf(0.99)*V.std()/np.sqrt(n)"
   ]
  },
  {
   "cell_type": "markdown",
   "metadata": {},
   "source": [
    "* Test double barrier options in HomeWork Barrier Option Problem 4.\n",
    "* S = 100, K = 100, t = 0.5, sigma = 0.25, r =0.05 "
   ]
  },
  {
   "cell_type": "markdown",
   "metadata": {},
   "source": [
    "* **L = 90, U = 110**"
   ]
  },
  {
   "cell_type": "code",
   "execution_count": 6,
   "metadata": {},
   "outputs": [
    {
     "data": {
      "text/plain": [
       "0.04419118799893145"
      ]
     },
     "execution_count": 6,
     "metadata": {},
     "output_type": "execute_result"
    }
   ],
   "source": [
    "DoubleBarrierC(S=100,K=100,L=90,U=110,t=.5,sigma=.25,r=0.05).Price()"
   ]
  },
  {
   "cell_type": "code",
   "execution_count": 7,
   "metadata": {
    "scrolled": true
   },
   "outputs": [
    {
     "data": {
      "text/plain": [
       "(0.03613393334515445, 0.05876520844390295)"
      ]
     },
     "execution_count": 7,
     "metadata": {},
     "output_type": "execute_result"
    }
   ],
   "source": [
    "DoubleBarrierMC(S=100,K=100,L=90,U=110,t=0.5,sigma=0.25,r=0.05,n=10000)"
   ]
  },
  {
   "cell_type": "markdown",
   "metadata": {},
   "source": [
    "We also use the double barrier via Fourier to price the option almost at maturity. Because the Fourier series ought to be infinite, this pricing method is sensitive to the number of iterations, and is also numerically unstable and thus not suitable for this sort of computation."
   ]
  },
  {
   "cell_type": "code",
   "execution_count": 8,
   "metadata": {},
   "outputs": [
    {
     "name": "stdout",
     "output_type": "stream",
     "text": [
      "iterations for convergence: 3\n"
     ]
    },
    {
     "data": {
      "text/plain": [
       "0.04419118799895996"
      ]
     },
     "execution_count": 8,
     "metadata": {},
     "output_type": "execute_result"
    }
   ],
   "source": [
    "DoubleBarrierFourier(K=100,L=90,U=110,T=.5,sigma=.25,r=0.05).Price(100,0)"
   ]
  },
  {
   "cell_type": "markdown",
   "metadata": {},
   "source": [
    "We demonstrate the numerical instability of calculating delta via the Fourier series decomposition method compared to the image method in the cell below. Note that neighboring points are different enough such that the function does not appear to be smooth, and that the approximation doesn't go to 0 outside of the barriers. The Fourier pricer's results are unstable."
   ]
  },
  {
   "cell_type": "code",
   "execution_count": 9,
   "metadata": {
    "scrolled": true
   },
   "outputs": [
    {
     "name": "stdout",
     "output_type": "stream",
     "text": [
      "iterations: 8\n",
      "iterations: 4\n",
      "iterations: 202\n",
      "iterations: 19\n",
      "iterations: 154\n",
      "iterations: 110\n",
      "iterations: 60\n",
      "iterations: 68\n",
      "iterations: 220\n",
      "iterations: 303\n",
      "iterations: 74\n"
     ]
    },
    {
     "name": "stderr",
     "output_type": "stream",
     "text": [
      "/Users/liunayan/anaconda3/lib/python3.7/site-packages/ipykernel_launcher.py:29: IntegrationWarning: The maximum number of subdivisions (50) has been achieved.\n",
      "  If increasing the limit yields no improvement it is advised to analyze \n",
      "  the integrand in order to determine the difficulties.  If the position of a \n",
      "  local difficulty can be determined (singularity, discontinuity) one will \n",
      "  probably gain from splitting up the interval and calling the integrator \n",
      "  on the subranges.  Perhaps a special-purpose integrator should be used.\n"
     ]
    },
    {
     "name": "stdout",
     "output_type": "stream",
     "text": [
      "iterations: 462\n"
     ]
    },
    {
     "name": "stderr",
     "output_type": "stream",
     "text": [
      "/Users/liunayan/anaconda3/lib/python3.7/site-packages/ipykernel_launcher.py:29: IntegrationWarning: The integral is probably divergent, or slowly convergent.\n"
     ]
    },
    {
     "name": "stdout",
     "output_type": "stream",
     "text": [
      "iterations: 480\n",
      "iterations: 147\n",
      "iterations: 192\n",
      "iterations: 190\n",
      "iterations: 286\n",
      "iterations: 342\n",
      "iterations: 25\n",
      "iterations: 18\n",
      "iterations: 7\n",
      "iterations: 268\n",
      "iterations: 14\n",
      "iterations: 11\n",
      "iterations: 15\n",
      "iterations: 17\n",
      "iterations: 23\n",
      "iterations: 147\n",
      "iterations: 41\n",
      "iterations: 11\n",
      "iterations: 24\n",
      "iterations: 21\n",
      "iterations: 15\n",
      "iterations: 203\n",
      "iterations: 17\n",
      "iterations: 80\n",
      "iterations: 65\n",
      "iterations: 75\n",
      "iterations: 318\n",
      "iterations: 475\n",
      "iterations: 475\n",
      "iterations: 228\n",
      "iterations: 106\n",
      "iterations: 475\n",
      "iterations: 31\n",
      "iterations: 14\n",
      "iterations: 15\n",
      "iterations: 72\n",
      "iterations: 87\n",
      "iterations: 21\n",
      "iterations: 21\n",
      "iterations: 28\n",
      "iterations: 5\n",
      "iterations: 30\n",
      "iterations: 35\n",
      "iterations: 16\n",
      "iterations: 9\n",
      "iterations: 12\n",
      "iterations: 17\n",
      "iterations: 10\n",
      "iterations: 23\n",
      "iterations: 11\n",
      "iterations: 7\n",
      "iterations: 12\n",
      "iterations: 15\n",
      "iterations: 26\n",
      "iterations: 18\n",
      "iterations: 6\n",
      "iterations: 11\n",
      "iterations: 10\n",
      "iterations: 16\n",
      "iterations: 21\n",
      "iterations: 64\n",
      "iterations: 54\n",
      "iterations: 166\n",
      "iterations: 63\n",
      "iterations: 117\n",
      "iterations: 38\n",
      "iterations: 97\n",
      "iterations: 18\n",
      "iterations: 195\n",
      "iterations: 59\n",
      "iterations: 258\n",
      "iterations: 419\n",
      "iterations: 475\n",
      "iterations: 74\n",
      "iterations: 475\n",
      "iterations: 358\n",
      "iterations: 489\n",
      "iterations: 4\n",
      "iterations: 58\n",
      "iterations: 197\n",
      "iterations: 168\n",
      "iterations: 136\n",
      "iterations: 20\n",
      "iterations: 74\n",
      "iterations: 29\n",
      "iterations: 110\n",
      "iterations: 48\n",
      "iterations: 82\n"
     ]
    },
    {
     "data": {
      "text/plain": [
       "<matplotlib.legend.Legend at 0x1a19a87e10>"
      ]
     },
     "execution_count": 9,
     "metadata": {},
     "output_type": "execute_result"
    },
    {
     "data": {
      "image/png": "[encoded data removed]",
      "text/plain": [
       "<Figure size 432x288 with 1 Axes>"
      ]
     },
     "metadata": {
      "needs_background": "light"
     },
     "output_type": "display_data"
    }
   ],
   "source": [
    "DI = []\n",
    "DF = []\n",
    "for i in range(50,150):\n",
    "    fourier = DoubleBarrierFourier(K=100,L=90,U=110,T=1,sigma=.25,r=0.05)\n",
    "    DF.append(fourier.Delta(i, 0))\n",
    "    image = DoubleBarrierC(S = i, K = 100, L = 90, U = 110, t = 1, sigma = .25, r = 0.05)\n",
    "    DI.append(image.Delta())\n",
    "plt.plot([x for x in range(50, 150)], DF)\n",
    "plt.plot([x for x in range(50, 150)], DI)\n",
    "plt.legend(['Delta by Fourier', 'Delta by Images'])"
   ]
  },
  {
   "cell_type": "markdown",
   "metadata": {},
   "source": [
    "Thus, we continue further tests using the image method and the Monte-Carlo method."
   ]
  },
  {
   "cell_type": "markdown",
   "metadata": {},
   "source": [
    "* **L = 80, U = 120**"
   ]
  },
  {
   "cell_type": "code",
   "execution_count": 10,
   "metadata": {},
   "outputs": [
    {
     "data": {
      "text/plain": [
       "1.4583205347007344"
      ]
     },
     "execution_count": 10,
     "metadata": {},
     "output_type": "execute_result"
    }
   ],
   "source": [
    "DoubleBarrierC(S=100,K=100,L=80,U=120,t=0.5,sigma=0.25,r=0.05).Price()"
   ]
  },
  {
   "cell_type": "code",
   "execution_count": 11,
   "metadata": {},
   "outputs": [
    {
     "data": {
      "text/plain": [
       "(1.3858990474701622, 1.5512721892701964)"
      ]
     },
     "execution_count": 11,
     "metadata": {},
     "output_type": "execute_result"
    }
   ],
   "source": [
    "DoubleBarrierMC(S=100,K=100,L=80,U=120,t=0.5,sigma=0.25,r=0.05,n=10000)"
   ]
  },
  {
   "cell_type": "markdown",
   "metadata": {},
   "source": [
    "* **L = 70, U = 130**"
   ]
  },
  {
   "cell_type": "code",
   "execution_count": 12,
   "metadata": {},
   "outputs": [
    {
     "data": {
      "text/plain": [
       "3.7319849143551265"
      ]
     },
     "execution_count": 12,
     "metadata": {},
     "output_type": "execute_result"
    }
   ],
   "source": [
    "DoubleBarrierC(S=100,K=100,L=70,U=130,t=0.5,sigma=0.25,r=0.05).Price()"
   ]
  },
  {
   "cell_type": "code",
   "execution_count": 13,
   "metadata": {
    "scrolled": true
   },
   "outputs": [
    {
     "data": {
      "text/plain": [
       "(3.617406696018445, 3.9203091080471695)"
      ]
     },
     "execution_count": 13,
     "metadata": {},
     "output_type": "execute_result"
    }
   ],
   "source": [
    "DoubleBarrierMC(S=100,K=100,L=70,U=130,t=0.5,sigma=0.25,r=0.05,n=10000)"
   ]
  },
  {
   "cell_type": "markdown",
   "metadata": {},
   "source": [
    "* **Extreme Case: L = 0.1, U = 1000**"
   ]
  },
  {
   "cell_type": "code",
   "execution_count": 14,
   "metadata": {},
   "outputs": [
    {
     "data": {
      "text/plain": [
       "8.26001519934323"
      ]
     },
     "execution_count": 14,
     "metadata": {},
     "output_type": "execute_result"
    }
   ],
   "source": [
    "DoubleBarrierC(S=100,K=100,L=0.1,U=1000,t=0.5,sigma=0.25,r=0.05).Price()"
   ]
  },
  {
   "cell_type": "code",
   "execution_count": 15,
   "metadata": {
    "scrolled": true
   },
   "outputs": [
    {
     "ename": "KeyboardInterrupt",
     "evalue": "",
     "output_type": "error",
     "traceback": [
      "\u001b[0;31m---------------------------------------------------------------------------\u001b[0m",
      "\u001b[0;31mKeyboardInterrupt\u001b[0m                         Traceback (most recent call last)",
      "\u001b[0;32m<ipython-input-15-a694cdecd2e9>\u001b[0m in \u001b[0;36m<module>\u001b[0;34m\u001b[0m\n\u001b[0;32m----> 1\u001b[0;31m \u001b[0mDoubleBarrierMC\u001b[0m\u001b[0;34m(\u001b[0m\u001b[0mS\u001b[0m\u001b[0;34m=\u001b[0m\u001b[0;36m100\u001b[0m\u001b[0;34m,\u001b[0m\u001b[0mK\u001b[0m\u001b[0;34m=\u001b[0m\u001b[0;36m100\u001b[0m\u001b[0;34m,\u001b[0m\u001b[0mL\u001b[0m\u001b[0;34m=\u001b[0m\u001b[0;36m0.1\u001b[0m\u001b[0;34m,\u001b[0m\u001b[0mU\u001b[0m\u001b[0;34m=\u001b[0m\u001b[0;36m1000\u001b[0m\u001b[0;34m,\u001b[0m\u001b[0mt\u001b[0m\u001b[0;34m=\u001b[0m\u001b[0;36m0.5\u001b[0m\u001b[0;34m,\u001b[0m\u001b[0msigma\u001b[0m\u001b[0;34m=\u001b[0m\u001b[0;36m0.25\u001b[0m\u001b[0;34m,\u001b[0m\u001b[0mr\u001b[0m\u001b[0;34m=\u001b[0m\u001b[0;36m0.05\u001b[0m\u001b[0;34m,\u001b[0m\u001b[0mn\u001b[0m\u001b[0;34m=\u001b[0m\u001b[0;36m10000\u001b[0m\u001b[0;34m)\u001b[0m\u001b[0;34m\u001b[0m\u001b[0;34m\u001b[0m\u001b[0m\n\u001b[0m",
      "\u001b[0;32m<ipython-input-5-9ecd411b7f13>\u001b[0m in \u001b[0;36mDoubleBarrierMC\u001b[0;34m(S, K, L, U, t, sigma, r, n)\u001b[0m\n\u001b[1;32m      9\u001b[0m         \u001b[0mflag\u001b[0m\u001b[0;34m=\u001b[0m\u001b[0;36m0\u001b[0m\u001b[0;34m\u001b[0m\u001b[0;34m\u001b[0m\u001b[0m\n\u001b[1;32m     10\u001b[0m         \u001b[0;32mfor\u001b[0m \u001b[0mj\u001b[0m \u001b[0;32min\u001b[0m \u001b[0mrange\u001b[0m\u001b[0;34m(\u001b[0m\u001b[0mint\u001b[0m\u001b[0;34m(\u001b[0m\u001b[0mt\u001b[0m\u001b[0;34m*\u001b[0m\u001b[0;36m7000\u001b[0m\u001b[0;34m-\u001b[0m\u001b[0;36m1\u001b[0m\u001b[0;34m)\u001b[0m\u001b[0;34m)\u001b[0m\u001b[0;34m:\u001b[0m\u001b[0;34m\u001b[0m\u001b[0;34m\u001b[0m\u001b[0m\n\u001b[0;32m---> 11\u001b[0;31m             \u001b[0mSt\u001b[0m\u001b[0;34m[\u001b[0m\u001b[0mj\u001b[0m\u001b[0;34m+\u001b[0m\u001b[0;36m1\u001b[0m\u001b[0;34m]\u001b[0m\u001b[0;34m=\u001b[0m\u001b[0mSt\u001b[0m\u001b[0;34m[\u001b[0m\u001b[0mj\u001b[0m\u001b[0;34m]\u001b[0m\u001b[0;34m*\u001b[0m\u001b[0mnp\u001b[0m\u001b[0;34m.\u001b[0m\u001b[0mexp\u001b[0m\u001b[0;34m(\u001b[0m\u001b[0;34m(\u001b[0m\u001b[0mr\u001b[0m\u001b[0;34m-\u001b[0m\u001b[0msigma\u001b[0m\u001b[0;34m*\u001b[0m\u001b[0msigma\u001b[0m\u001b[0;34m/\u001b[0m\u001b[0;36m2\u001b[0m\u001b[0;34m)\u001b[0m\u001b[0;34m*\u001b[0m\u001b[0mT\u001b[0m\u001b[0;34m-\u001b[0m\u001b[0msigma\u001b[0m\u001b[0;34m*\u001b[0m\u001b[0mnp\u001b[0m\u001b[0;34m.\u001b[0m\u001b[0msqrt\u001b[0m\u001b[0;34m(\u001b[0m\u001b[0mT\u001b[0m\u001b[0;34m)\u001b[0m\u001b[0;34m*\u001b[0m\u001b[0mnp\u001b[0m\u001b[0;34m.\u001b[0m\u001b[0mrandom\u001b[0m\u001b[0;34m.\u001b[0m\u001b[0mnormal\u001b[0m\u001b[0;34m(\u001b[0m\u001b[0;36m0\u001b[0m\u001b[0;34m,\u001b[0m\u001b[0;36m1\u001b[0m\u001b[0;34m)\u001b[0m\u001b[0;34m)\u001b[0m\u001b[0;34m\u001b[0m\u001b[0;34m\u001b[0m\u001b[0m\n\u001b[0m\u001b[1;32m     12\u001b[0m             \u001b[0;32mif\u001b[0m \u001b[0;34m(\u001b[0m\u001b[0mSt\u001b[0m\u001b[0;34m[\u001b[0m\u001b[0mj\u001b[0m\u001b[0;34m+\u001b[0m\u001b[0;36m1\u001b[0m\u001b[0;34m]\u001b[0m\u001b[0;34m>=\u001b[0m\u001b[0mU\u001b[0m \u001b[0;32mor\u001b[0m \u001b[0mSt\u001b[0m\u001b[0;34m[\u001b[0m\u001b[0mj\u001b[0m\u001b[0;34m+\u001b[0m\u001b[0;36m1\u001b[0m\u001b[0;34m]\u001b[0m\u001b[0;34m<=\u001b[0m\u001b[0mL\u001b[0m\u001b[0;34m)\u001b[0m\u001b[0;34m:\u001b[0m\u001b[0;34m\u001b[0m\u001b[0;34m\u001b[0m\u001b[0m\n\u001b[1;32m     13\u001b[0m                 \u001b[0mflag\u001b[0m\u001b[0;34m=\u001b[0m\u001b[0;36m1\u001b[0m\u001b[0;34m\u001b[0m\u001b[0;34m\u001b[0m\u001b[0m\n",
      "\u001b[0;31mKeyboardInterrupt\u001b[0m: "
     ]
    }
   ],
   "source": [
    "DoubleBarrierMC(S=100,K=100,L=0.1,U=1000,t=0.5,sigma=0.25,r=0.05,n=10000)"
   ]
  },
  {
   "cell_type": "markdown",
   "metadata": {},
   "source": [
    "## 3. Tests for Validity\n",
    "**(1)** Case 1: When the lower barrier is extremely small and the upper barrier is large enough, the double barrier knock-out call ption price should be equal with the vanilla call option price."
   ]
  },
  {
   "cell_type": "code",
   "execution_count": null,
   "metadata": {},
   "outputs": [],
   "source": [
    "# Vanilla Call Option Price\n",
    "def BSC(S,K,t,sigma,r):\n",
    "    d1 = (np.log(S/K)+(r+0.5*sigma**2)*t)/(sigma*np.sqrt(t))\n",
    "    d2 = d1 - sigma*np.sqrt(t)\n",
    "    return S*norm.cdf(d1) - K*np.exp(-r*t)*norm.cdf(d2)"
   ]
  },
  {
   "cell_type": "code",
   "execution_count": null,
   "metadata": {},
   "outputs": [],
   "source": [
    "BSC(S=100,K=100,t=0.5,sigma=0.25,r=0.05)"
   ]
  },
  {
   "cell_type": "code",
   "execution_count": null,
   "metadata": {},
   "outputs": [],
   "source": [
    "DoubleBarrierC(S=100,K=100,L=0.1,U=1000,t=0.5,sigma=0.25,r=0.05).Price()"
   ]
  },
  {
   "cell_type": "markdown",
   "metadata": {},
   "source": [
    "(2) Case 2: If the upper barrier is large enough, then the double barrier knock-out call ption price should be equal with the single barrier knock-out call option price."
   ]
  },
  {
   "cell_type": "code",
   "execution_count": null,
   "metadata": {},
   "outputs": [],
   "source": [
    "def SingleBarrierC(S,K,X,t,sigma,r):\n",
    "    k = r/(0.5*sigma**2)\n",
    "    Price = BSC(S,K,t,sigma,r) - (S/X)**(-k+1)*BSC(X**2/S,K,t,sigma,r)\n",
    "    return Price"
   ]
  },
  {
   "cell_type": "code",
   "execution_count": null,
   "metadata": {},
   "outputs": [],
   "source": [
    "DoubleBarrierC(S=100,K=100,L=90,U=1000,t=0.5,sigma=0.25,r=0.05).Price()"
   ]
  },
  {
   "cell_type": "code",
   "execution_count": null,
   "metadata": {},
   "outputs": [],
   "source": [
    "SingleBarrierC(S=100,K=100,X=90,t=0.5,sigma=0.25,r=0.05)"
   ]
  },
  {
   "cell_type": "markdown",
   "metadata": {},
   "source": [
    "(3) Case 3: If time goes infinity, the knock out probability will approach 1, so the price will be nearly zero."
   ]
  },
  {
   "cell_type": "code",
   "execution_count": null,
   "metadata": {
    "scrolled": true
   },
   "outputs": [],
   "source": [
    "DoubleBarrierC(S=100,K=100,L=90,U=110,t=100,sigma=0.25,r=0.05).Price()"
   ]
  },
  {
   "cell_type": "markdown",
   "metadata": {},
   "source": [
    "## 4. Analytical Delta\n",
    "* The analytical Delta has been stored in class \"DoubleBarrierC\"\n",
    "* Test for it: if the lower barrier is extremely small and the upper barrier is large enough, the delta for the double barrier option will be equal with a vanilla call option's delta. "
   ]
  },
  {
   "cell_type": "code",
   "execution_count": null,
   "metadata": {},
   "outputs": [],
   "source": [
    "DoubleBarrierC(S=100,K=100,L=0.1,U=1000,t=0.5,sigma=0.25,r=0.05).Delta()"
   ]
  },
  {
   "cell_type": "code",
   "execution_count": null,
   "metadata": {},
   "outputs": [],
   "source": [
    "norm.cdf((np.log(100/100)+(0.05+0.5*0.25**2)*0.5)/(0.25*np.sqrt(0.5)))"
   ]
  },
  {
   "cell_type": "markdown",
   "metadata": {},
   "source": [
    "## 5. Empirical Study"
   ]
  },
  {
   "cell_type": "code",
   "execution_count": null,
   "metadata": {},
   "outputs": [],
   "source": [
    "def ReplicationSeries(S,K,U,L,r,sigma):\n",
    "    \"\"\"\n",
    "    Backtesting framework\n",
    "    \"\"\"\n",
    "    P = pd.DataFrame(index = S.index, columns = ['V','delta','PnL'])\n",
    "    T = S.size/252\n",
    "\n",
    "    #computing option price and delta(equals portfolio value at time 0)\n",
    "    DB = DoubleBarrierC(S=S[0],K=K,L=L,U=U,t=T,sigma=sigma,r=r)\n",
    "    P.iloc[0,0]=DB.Price()\n",
    "    P.iloc[0,1]=DB.Delta()\n",
    "    \n",
    "    for i in range(S.size-1):\n",
    "        DB.update_params(S = S[i], t = T-i/252)\n",
    "        P.iloc[i+1,1] = DB.Delta()\n",
    "        P.iloc[i+1,0] = DB.Price()\n",
    "        P.iloc[i+1,2]=(P.iloc[i+1,0]-P.iloc[i,0])-P.iloc[i,1]*(S[i+1]-S[i])\n",
    "    return P   \n",
    "\n",
    "def calc_proper_logreturns(dataseries):\n",
    "    \"\"\"\n",
    "    Calculate logreturns that incorporate the days between entries/prices.\n",
    "    \"\"\"\n",
    "    deltaT = (dataseries.index.to_series().shift(-1)-dataseries.index.to_series()) .dt.days\n",
    "    logret = np.log(dataseries/dataseries.shift(1) )      / np.sqrt(deltaT).values\n",
    "    return logret"
   ]
  },
  {
   "cell_type": "markdown",
   "metadata": {},
   "source": [
    "### (1) MSFT"
   ]
  },
  {
   "cell_type": "code",
   "execution_count": null,
   "metadata": {},
   "outputs": [],
   "source": [
    "stock1 = data.DataReader('MSFT', 'yahoo', '2019-05-15', '2020-05-14')['Adj Close']\n",
    "\n",
    "sigma1 =  calc_proper_logreturns(stock1).std()* np.sqrt(252)\n",
    "r = 0.0251\n",
    "K1 = stock1[0]\n",
    "U1 = stock1.max()\n",
    "L1 = stock1.min()"
   ]
  },
  {
   "cell_type": "code",
   "execution_count": null,
   "metadata": {},
   "outputs": [],
   "source": [
    "result1 = ReplicationSeries(stock1,K1,U1,L1,r,sigma1)\n",
    "result1.head()"
   ]
  },
  {
   "cell_type": "code",
   "execution_count": null,
   "metadata": {},
   "outputs": [],
   "source": [
    "plt.style.use(\"seaborn\")\n",
    "_ = plt.figure(figsize=(20,5))\n",
    "_ = plt.plot(result1.PnL)"
   ]
  },
  {
   "cell_type": "code",
   "execution_count": null,
   "metadata": {},
   "outputs": [],
   "source": [
    "_ = plt.figure(figsize=(20,5))\n",
    "_ = plt.plot(stock1)"
   ]
  },
  {
   "cell_type": "code",
   "execution_count": null,
   "metadata": {},
   "outputs": [],
   "source": [
    "stock2 = data.DataReader('IBM', 'yahoo', '2019-05-15', '2020-05-14')['Adj Close']\n",
    "\n",
    "sigma2 =  calc_proper_logreturns(stock2).std()* np.sqrt(252)\n",
    "r = 0.0251\n",
    "K2 = stock2[0]\n",
    "U2 = stock2.max()\n",
    "L2 = stock2.min()"
   ]
  },
  {
   "cell_type": "code",
   "execution_count": null,
   "metadata": {},
   "outputs": [],
   "source": [
    "result2 = ReplicationSeries(stock2,K2,U2,L2,r,sigma2)\n",
    "result2.head()"
   ]
  },
  {
   "cell_type": "code",
   "execution_count": null,
   "metadata": {},
   "outputs": [],
   "source": [
    "_ = plt.figure(figsize=(20,5))\n",
    "_ = plt.plot(result2.PnL)"
   ]
  },
  {
   "cell_type": "code",
   "execution_count": null,
   "metadata": {
    "scrolled": true
   },
   "outputs": [],
   "source": [
    "_ = plt.figure(figsize=(20,5))\n",
    "_ = plt.plot(stock2)"
   ]
  },
  {
   "cell_type": "markdown",
   "metadata": {},
   "source": [
    "### (3): CSCO"
   ]
  },
  {
   "cell_type": "code",
   "execution_count": null,
   "metadata": {},
   "outputs": [],
   "source": [
    "stock3 = data.DataReader('CSCO', 'yahoo', '2019-05-15', '2020-05-14')['Adj Close']"
   ]
  },
  {
   "cell_type": "code",
   "execution_count": null,
   "metadata": {},
   "outputs": [],
   "source": [
    "logret3 = calc_proper_logreturns(stock3)"
   ]
  },
  {
   "cell_type": "code",
   "execution_count": null,
   "metadata": {},
   "outputs": [],
   "source": [
    "sigma3 = (logret3.std() * np.sqrt(252))\n",
    "r = 0.0251\n",
    "K3 = stock3[0]\n",
    "U3 = stock3.max()+1\n",
    "L3 = stock3.min()-1"
   ]
  },
  {
   "cell_type": "code",
   "execution_count": null,
   "metadata": {},
   "outputs": [],
   "source": [
    "result3 = ReplicationSeries(stock3,K3,U3,L3,r,sigma3)\n",
    "result3.head()"
   ]
  },
  {
   "cell_type": "code",
   "execution_count": null,
   "metadata": {},
   "outputs": [],
   "source": [
    "_ = plt.figure(figsize=(20,5))\n",
    "_ = plt.plot(result3.PnL)"
   ]
  },
  {
   "cell_type": "code",
   "execution_count": null,
   "metadata": {
    "scrolled": true
   },
   "outputs": [],
   "source": [
    "_ = plt.figure(figsize=(20,5))\n",
    "_ = plt.plot(stock3)"
   ]
  },
  {
   "cell_type": "code",
   "execution_count": null,
   "metadata": {},
   "outputs": [],
   "source": [
    "_ = plt.figure(figsize=(20,5))\n",
    "_ = plt.plot(result3.delta)"
   ]
  },
  {
   "cell_type": "markdown",
   "metadata": {},
   "source": [
    "### (4): DELL"
   ]
  },
  {
   "cell_type": "code",
   "execution_count": null,
   "metadata": {},
   "outputs": [],
   "source": [
    "stock4 = data.DataReader('DELL', 'yahoo', '2019-05-15', '2020-05-14')['Adj Close']\n",
    "\n",
    "sigma4 =  calc_proper_logreturns(stock4).std()* np.sqrt(252)\n",
    "r = 0.0251\n",
    "K4 = stock4[0]\n",
    "U4 = stock4.max()\n",
    "L4 = stock4.min()"
   ]
  },
  {
   "cell_type": "code",
   "execution_count": null,
   "metadata": {},
   "outputs": [],
   "source": [
    "result4 = ReplicationSeries(stock4,K4,U4,L4,r,sigma4)\n",
    "result4.head()"
   ]
  },
  {
   "cell_type": "code",
   "execution_count": null,
   "metadata": {},
   "outputs": [],
   "source": [
    "_ = plt.figure(figsize=(20,5))\n",
    "_ = plt.plot(result4.PnL)"
   ]
  },
  {
   "cell_type": "code",
   "execution_count": null,
   "metadata": {
    "scrolled": true
   },
   "outputs": [],
   "source": [
    "_ = plt.figure(figsize=(20,5))\n",
    "_ = plt.plot(stock4)"
   ]
  },
  {
   "cell_type": "markdown",
   "metadata": {},
   "source": [
    "### (5): SNY"
   ]
  },
  {
   "cell_type": "code",
   "execution_count": null,
   "metadata": {},
   "outputs": [],
   "source": [
    "stock5 = data.DataReader('SNY', 'yahoo', '2019-05-15', '2020-05-14')['Adj Close']\n",
    "\n",
    "sigma5 =  calc_proper_logreturns(stock5).std()* np.sqrt(252)\n",
    "r = 0.0251\n",
    "K5 = stock5[0]\n",
    "U5 = stock5.max()\n",
    "L5 = stock5.min()"
   ]
  },
  {
   "cell_type": "code",
   "execution_count": null,
   "metadata": {},
   "outputs": [],
   "source": [
    "result5 = ReplicationSeries(stock5,K5,U5,L5,r,sigma5)\n",
    "result5.head()"
   ]
  },
  {
   "cell_type": "code",
   "execution_count": null,
   "metadata": {},
   "outputs": [],
   "source": [
    "_ = plt.figure(figsize=(20,5))\n",
    "_ = plt.plot(result5.PnL)"
   ]
  },
  {
   "cell_type": "code",
   "execution_count": null,
   "metadata": {},
   "outputs": [],
   "source": [
    "_ = plt.figure(figsize=(20,5))\n",
    "_ = plt.plot(stock5)"
   ]
  }
 ],
 "metadata": {
  "kernelspec": {
   "display_name": "Python 3",
   "language": "python",
   "name": "python3"
  },
  "language_info": {
   "codemirror_mode": {
    "name": "ipython",
    "version": 3
   },
   "file_extension": ".py",
   "mimetype": "text/x-python",
   "name": "python",
   "nbconvert_exporter": "python",
   "pygments_lexer": "ipython3",
   "version": "3.7.3"
  }
 },
 "nbformat": 4,
 "nbformat_minor": 4
}
